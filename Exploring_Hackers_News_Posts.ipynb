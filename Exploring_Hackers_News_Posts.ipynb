{
 "cells": [
  {
   "cell_type": "markdown",
   "metadata": {
    "collapsed": true
   },
   "source": [
    "# Guided Project: Exploring Hacker News Posts"
   ]
  },
  {
   "cell_type": "markdown",
   "metadata": {},
   "source": [
    "This guided project will bring the following skills together for real-world practice:\n",
    "\n",
    "1) How to work with strings  \n",
    "2) Object-oriented programming  \n",
    "3) Dates and times  \n",
    "\n",
    "A [downsampled dataset](https://www.kaggle.com/datasets/hacker-news/hacker-news-posts) from `Hacker News` will be used in this project. `Hacker News` is extremely popular website in technology and startup cicrles, and posts that make it to the top of the listings can get hundreds of thousands of visitors.\n",
    "\n",
    "Primarily, we're specifically interested in posts with title that begin with etiher `Ask HN` or `Show HN`. Users submit `Ask HN` posts to ask `Hacker News` community a specific question while users submit `Show HN` posts to show `Hacker News` community a project, product, or just something interesting."
   ]
  },
  {
   "cell_type": "markdown",
   "metadata": {},
   "source": [
    "## Description of data columns"
   ]
  },
  {
   "cell_type": "markdown",
   "metadata": {},
   "source": [
    "| Column      | Description|\n",
    "|:-------------|:------------|\n",
    "|id           |the unique identifier from Hacker News for the post|\n",
    "|title        |the title of the post\n",
    "|url          |the URL that the posts link to\n",
    "|num_points   |the number of points the post acquired, calculated as the total number of upvotes minus the total number of downvotes|\n",
    "|num_comments |the number of comments on the post\n",
    "|author       |the name of the account that made the post\n",
    "|created_at   |the date and time the post was made (the time zone is Eastern Time in the US)"
   ]
  },
  {
   "cell_type": "markdown",
   "metadata": {},
   "source": [
    "## Project Objective"
   ]
  },
  {
   "cell_type": "markdown",
   "metadata": {},
   "source": [
    "This project will compare the 2 types of posts `Ask HN` and `Show HN` to determine:\n",
    "\n",
    "- Do `Ask HN` or `Show HN` receive more comments on average?\n",
    "- Do posts created at a certain time receive more comments on average?"
   ]
  },
  {
   "cell_type": "markdown",
   "metadata": {},
   "source": [
    "## Read in the csv file as a list of lists"
   ]
  },
  {
   "cell_type": "code",
   "execution_count": 1,
   "metadata": {},
   "outputs": [
    {
     "name": "stdout",
     "output_type": "stream",
     "text": [
      "[['id', 'title', 'url', 'num_points', 'num_comments', 'author', 'created_at'], ['12224879', 'Interactive Dynamic Video', 'http://www.interactivedynamicvideo.com/', '386', '52', 'ne0phyte', '8/4/2016 11:52'], ['10975351', 'How to Use Open Source and Shut the Fuck Up at the Same Time', 'http://hueniverse.com/2016/01/26/how-to-use-open-source-and-shut-the-fuck-up-at-the-same-time/', '39', '10', 'josep2', '1/26/2016 19:30'], ['11964716', \"Florida DJs May Face Felony for April Fools' Water Joke\", 'http://www.thewire.com/entertainment/2013/04/florida-djs-april-fools-water-joke/63798/', '2', '1', 'vezycash', '6/23/2016 22:20'], ['11919867', 'Technology ventures: From Idea to Enterprise', 'https://www.amazon.com/Technology-Ventures-Enterprise-Thomas-Byers/dp/0073523429', '3', '1', 'hswarna', '6/17/2016 0:01']]\n"
     ]
    }
   ],
   "source": [
    "from csv import reader\n",
    "opened_file = open('hacker_news.csv')\n",
    "read_file = reader(opened_file)\n",
    "hn = list(read_file)\n",
    "print(hn[:5])"
   ]
  },
  {
   "cell_type": "markdown",
   "metadata": {},
   "source": [
    "### 1. Extract the first row of data as headers"
   ]
  },
  {
   "cell_type": "code",
   "execution_count": 2,
   "metadata": {},
   "outputs": [
    {
     "name": "stdout",
     "output_type": "stream",
     "text": [
      "headers:\n",
      "['id', 'title', 'url', 'num_points', 'num_comments', 'author', 'created_at']\n"
     ]
    }
   ],
   "source": [
    "# Extract headers from data\n",
    "headers = hn[0]\n",
    "\n",
    "print('headers:')\n",
    "print(headers)"
   ]
  },
  {
   "cell_type": "markdown",
   "metadata": {},
   "source": [
    "### 2. Remove headers"
   ]
  },
  {
   "cell_type": "code",
   "execution_count": 3,
   "metadata": {},
   "outputs": [
    {
     "name": "stdout",
     "output_type": "stream",
     "text": [
      "First 5 row of hn data without headers:\n",
      "[['12224879', 'Interactive Dynamic Video', 'http://www.interactivedynamicvideo.com/', '386', '52', 'ne0phyte', '8/4/2016 11:52'], ['10975351', 'How to Use Open Source and Shut the Fuck Up at the Same Time', 'http://hueniverse.com/2016/01/26/how-to-use-open-source-and-shut-the-fuck-up-at-the-same-time/', '39', '10', 'josep2', '1/26/2016 19:30'], ['11964716', \"Florida DJs May Face Felony for April Fools' Water Joke\", 'http://www.thewire.com/entertainment/2013/04/florida-djs-april-fools-water-joke/63798/', '2', '1', 'vezycash', '6/23/2016 22:20'], ['11919867', 'Technology ventures: From Idea to Enterprise', 'https://www.amazon.com/Technology-Ventures-Enterprise-Thomas-Byers/dp/0073523429', '3', '1', 'hswarna', '6/17/2016 0:01'], ['10301696', 'Note by Note: The Making of Steinway L1037 (2007)', 'http://www.nytimes.com/2007/11/07/movies/07stein.html?_r=0', '8', '2', 'walterbell', '9/30/2015 4:12']]\n"
     ]
    }
   ],
   "source": [
    "# Remove header first row from hn\n",
    "hn = hn[1:]\n",
    "\n",
    "print('First 5 row of hn data without headers:')\n",
    "print(hn[:5])"
   ]
  },
  {
   "cell_type": "markdown",
   "metadata": {},
   "source": [
    "## Find the posts with titles beginning with `Ask HN` or `Show HN`"
   ]
  },
  {
   "cell_type": "code",
   "execution_count": 4,
   "metadata": {},
   "outputs": [],
   "source": [
    "# Create 3 empty lists\n",
    "ask_posts = []\n",
    "show_posts = []\n",
    "other_posts = []"
   ]
  },
  {
   "cell_type": "code",
   "execution_count": 5,
   "metadata": {},
   "outputs": [],
   "source": [
    "# Seperate the posts\n",
    "for row in hn:\n",
    "    title = row[1]\n",
    "    if title.lower().startswith('ask hn'):\n",
    "        ask_posts.append(row)\n",
    "    elif title.lower().startswith('show hn'):\n",
    "        show_posts.append(row)\n",
    "    else:\n",
    "        other_posts.append(row)"
   ]
  },
  {
   "cell_type": "code",
   "execution_count": 6,
   "metadata": {},
   "outputs": [
    {
     "name": "stdout",
     "output_type": "stream",
     "text": [
      "Number of \"Ask HN\" posts: 1744\n",
      "\n",
      "Number of \"Show HN\" posts: 1162\n",
      "\n",
      "Number of other posts: 17194\n"
     ]
    }
   ],
   "source": [
    "# Count the number of posts in each list\n",
    "length_ask_posts = len(ask_posts)\n",
    "print(f'Number of \"Ask HN\" posts: {length_ask_posts}')\n",
    "\n",
    "print()\n",
    "\n",
    "length_show_posts = len(show_posts)\n",
    "print(f'Number of \"Show HN\" posts: {length_show_posts}')\n",
    "\n",
    "print()\n",
    "\n",
    "length_other_posts = len(other_posts)\n",
    "print(f'Number of other posts: {length_other_posts}')"
   ]
  },
  {
   "cell_type": "markdown",
   "metadata": {},
   "source": [
    "## Display the first 5 rows of data beginning with `Ask HN` and `Show HN`"
   ]
  },
  {
   "cell_type": "code",
   "execution_count": 7,
   "metadata": {},
   "outputs": [
    {
     "name": "stdout",
     "output_type": "stream",
     "text": [
      "First 5 rows from ask_posts:\n",
      "[['12296411', 'Ask HN: How to improve my personal website?', '', '2', '6', 'ahmedbaracat', '8/16/2016 9:55'], ['10610020', 'Ask HN: Am I the only one outraged by Twitter shutting down share counts?', '', '28', '29', 'tkfx', '11/22/2015 13:43'], ['11610310', 'Ask HN: Aby recent changes to CSS that broke mobile?', '', '1', '1', 'polskibus', '5/2/2016 10:14'], ['12210105', 'Ask HN: Looking for Employee #3 How do I do it?', '', '1', '3', 'sph130', '8/2/2016 14:20'], ['10394168', 'Ask HN: Someone offered to buy my browser extension from me. What now?', '', '28', '17', 'roykolak', '10/15/2015 16:38']]\n"
     ]
    }
   ],
   "source": [
    "# Display first 5 rows of data for 'ask_posts' list\n",
    "print('First 5 rows from ask_posts:')\n",
    "print(ask_posts[:5])"
   ]
  },
  {
   "cell_type": "code",
   "execution_count": 8,
   "metadata": {},
   "outputs": [
    {
     "name": "stdout",
     "output_type": "stream",
     "text": [
      "First 5 rows from show_posts:\n",
      "[['10627194', 'Show HN: Wio Link  ESP8266 Based Web of Things Hardware Development Platform', 'https://iot.seeed.cc', '26', '22', 'kfihihc', '11/25/2015 14:03'], ['10646440', 'Show HN: Something pointless I made', 'http://dn.ht/picklecat/', '747', '102', 'dhotson', '11/29/2015 22:46'], ['11590768', 'Show HN: Shanhu.io, a programming playground powered by e8vm', 'https://shanhu.io', '1', '1', 'h8liu', '4/28/2016 18:05'], ['12178806', 'Show HN: Webscope  Easy way for web developers to communicate with Clients', 'http://webscopeapp.com', '3', '3', 'fastbrick', '7/28/2016 7:11'], ['10872799', 'Show HN: GeoScreenshot  Easily test Geo-IP based web pages', 'https://www.geoscreenshot.com/', '1', '9', 'kpsychwave', '1/9/2016 20:45']]\n"
     ]
    }
   ],
   "source": [
    "# Display first 5 rows of data for 'show_posts' list\n",
    "print('First 5 rows from show_posts:')\n",
    "print(show_posts[:5])"
   ]
  },
  {
   "cell_type": "markdown",
   "metadata": {},
   "source": [
    "## Calculate the average number of comments for `Ask HN` and `Show HN` posts"
   ]
  },
  {
   "cell_type": "code",
   "execution_count": 9,
   "metadata": {},
   "outputs": [
    {
     "name": "stdout",
     "output_type": "stream",
     "text": [
      "The average number of comments on ask posts is 14\n"
     ]
    }
   ],
   "source": [
    "# Find the total number of comments on ask posts\n",
    "\n",
    "total_ask_comments = 0\n",
    "for row in ask_posts:\n",
    "    num_of_ask_comments = int(row[4])\n",
    "    total_ask_comments += num_of_ask_comments\n",
    "\n",
    "# Find the average number of comments on ask posts\n",
    "avg_ask_comments = total_ask_comments // length_ask_posts\n",
    "\n",
    "print(f'The average number of comments on ask posts is {avg_ask_comments}')"
   ]
  },
  {
   "cell_type": "code",
   "execution_count": 10,
   "metadata": {},
   "outputs": [
    {
     "name": "stdout",
     "output_type": "stream",
     "text": [
      "The average number of comments on show posts is 10\n"
     ]
    }
   ],
   "source": [
    "# Find the total number of comments on show posts\n",
    "\n",
    "total_show_comments = 0\n",
    "for row in show_posts:\n",
    "    num_of_show_comments = int(row[4])\n",
    "    total_show_comments += num_of_show_comments\n",
    "\n",
    "# Find the average number of comments on show posts\n",
    "avg_show_comments = total_show_comments // length_show_posts\n",
    "\n",
    "print(f'The average number of comments on show posts is {avg_show_comments}')"
   ]
  },
  {
   "cell_type": "markdown",
   "metadata": {},
   "source": [
    "## Find the Number of `Ask HN` Posts and Comments by Hour Created"
   ]
  },
  {
   "cell_type": "markdown",
   "metadata": {},
   "source": [
    "We'll determine if ask posts created at a certain time are mor likely to attract comments. To perform this analysis:\n",
    "\n",
    "1. Calculate the number of ask posts created in each hour of the day, along with the number of comments received.\n",
    "\n",
    "2. Calculate the average number of comments ask posts receive by hour created"
   ]
  },
  {
   "cell_type": "markdown",
   "metadata": {},
   "source": [
    "### Step 1 - Calculate the number of `Ask HN` posts created in each hour of the day, along with the number of comments received."
   ]
  },
  {
   "cell_type": "code",
   "execution_count": 11,
   "metadata": {},
   "outputs": [
    {
     "data": {
      "text/plain": [
       "{'09': 251,\n",
       " '13': 1253,\n",
       " '10': 793,\n",
       " '14': 1416,\n",
       " '16': 1814,\n",
       " '23': 543,\n",
       " '12': 687,\n",
       " '17': 1146,\n",
       " '15': 4477,\n",
       " '21': 1745,\n",
       " '20': 1722,\n",
       " '02': 1381,\n",
       " '18': 1439,\n",
       " '03': 421,\n",
       " '05': 464,\n",
       " '19': 1188,\n",
       " '01': 683,\n",
       " '22': 479,\n",
       " '08': 492,\n",
       " '04': 337,\n",
       " '00': 447,\n",
       " '06': 397,\n",
       " '07': 267,\n",
       " '11': 641}"
      ]
     },
     "execution_count": 11,
     "metadata": {},
     "output_type": "execute_result"
    }
   ],
   "source": [
    "# Import the datetime module\n",
    "import datetime as dt\n",
    "\n",
    "# Create an empty list 'result_list'\n",
    "result_list = []\n",
    "\n",
    "# Iterate over 'ask_posts' list to append number of comments and created date\n",
    "# number of comments in index 4 and created date in index 6\n",
    "for post in ask_posts:\n",
    "    result_list.append([post[6], int(post[4])])\n",
    "\n",
    "# Create dictionaries 'counts_by_hour' and 'comments_by_hour'\n",
    "counts_by_hour = {}\n",
    "comments_by_hour = {}\n",
    "\n",
    "for item in result_list:\n",
    "    date = item[0]\n",
    "    comment = item[1]\n",
    "    date_format = '%m/%d/%Y %H:%M'\n",
    "    \n",
    "    # First is to parse string into datetime object using strptime, then extract the hour portion using strftime\n",
    "    time = dt.datetime.strptime(date, date_format).strftime('%H')\n",
    "    \n",
    "    if time in counts_by_hour:\n",
    "        comments_by_hour[time] += comment\n",
    "        counts_by_hour[time] += 1\n",
    "    else:\n",
    "        comments_by_hour[time] = comment\n",
    "        counts_by_hour[time] = 1\n",
    "\n",
    "comments_by_hour"
   ]
  },
  {
   "cell_type": "markdown",
   "metadata": {},
   "source": [
    "### Step 2 - Calculate the Average Number of Comments for `Ask HN` Posts by Hour"
   ]
  },
  {
   "cell_type": "markdown",
   "metadata": {},
   "source": [
    "Next, we use the two dictionaries `comments_by_hour` and `counts_by_hour` to calculate the average number of comments for posts created during each hour of the day"
   ]
  },
  {
   "cell_type": "code",
   "execution_count": 12,
   "metadata": {},
   "outputs": [
    {
     "data": {
      "text/plain": [
       "[['09', 5.5777777777777775],\n",
       " ['13', 14.741176470588234],\n",
       " ['10', 13.440677966101696],\n",
       " ['14', 13.233644859813085],\n",
       " ['16', 16.796296296296298],\n",
       " ['23', 7.985294117647059],\n",
       " ['12', 9.41095890410959],\n",
       " ['17', 11.46],\n",
       " ['15', 38.5948275862069],\n",
       " ['21', 16.009174311926607],\n",
       " ['20', 21.525],\n",
       " ['02', 23.810344827586206],\n",
       " ['18', 13.20183486238532],\n",
       " ['03', 7.796296296296297],\n",
       " ['05', 10.08695652173913],\n",
       " ['19', 10.8],\n",
       " ['01', 11.383333333333333],\n",
       " ['22', 6.746478873239437],\n",
       " ['08', 10.25],\n",
       " ['04', 7.170212765957447],\n",
       " ['00', 8.127272727272727],\n",
       " ['06', 9.022727272727273],\n",
       " ['07', 7.852941176470588],\n",
       " ['11', 11.051724137931034]]"
      ]
     },
     "execution_count": 12,
     "metadata": {},
     "output_type": "execute_result"
    }
   ],
   "source": [
    "avg_by_hour = []\n",
    "\n",
    "for hour in comments_by_hour:\n",
    "    avg_by_hour.append([hour, comments_by_hour[hour] / counts_by_hour[hour]])\n",
    "\n",
    "avg_by_hour"
   ]
  },
  {
   "cell_type": "markdown",
   "metadata": {},
   "source": [
    "## Sorting and Printing Values"
   ]
  },
  {
   "cell_type": "markdown",
   "metadata": {},
   "source": [
    "Sort the obtained results in order to identify the hours with the highest number of comments"
   ]
  },
  {
   "cell_type": "code",
   "execution_count": 13,
   "metadata": {},
   "outputs": [
    {
     "name": "stdout",
     "output_type": "stream",
     "text": [
      "[[5.5777777777777775, '09'], [14.741176470588234, '13'], [13.440677966101696, '10'], [13.233644859813085, '14'], [16.796296296296298, '16'], [7.985294117647059, '23'], [9.41095890410959, '12'], [11.46, '17'], [38.5948275862069, '15'], [16.009174311926607, '21'], [21.525, '20'], [23.810344827586206, '02'], [13.20183486238532, '18'], [7.796296296296297, '03'], [10.08695652173913, '05'], [10.8, '19'], [11.383333333333333, '01'], [6.746478873239437, '22'], [10.25, '08'], [7.170212765957447, '04'], [8.127272727272727, '00'], [9.022727272727273, '06'], [7.852941176470588, '07'], [11.051724137931034, '11']]\n"
     ]
    },
    {
     "data": {
      "text/plain": [
       "[[38.5948275862069, '15'],\n",
       " [23.810344827586206, '02'],\n",
       " [21.525, '20'],\n",
       " [16.796296296296298, '16'],\n",
       " [16.009174311926607, '21'],\n",
       " [14.741176470588234, '13'],\n",
       " [13.440677966101696, '10'],\n",
       " [13.233644859813085, '14'],\n",
       " [13.20183486238532, '18'],\n",
       " [11.46, '17'],\n",
       " [11.383333333333333, '01'],\n",
       " [11.051724137931034, '11'],\n",
       " [10.8, '19'],\n",
       " [10.25, '08'],\n",
       " [10.08695652173913, '05'],\n",
       " [9.41095890410959, '12'],\n",
       " [9.022727272727273, '06'],\n",
       " [8.127272727272727, '00'],\n",
       " [7.985294117647059, '23'],\n",
       " [7.852941176470588, '07'],\n",
       " [7.796296296296297, '03'],\n",
       " [7.170212765957447, '04'],\n",
       " [6.746478873239437, '22'],\n",
       " [5.5777777777777775, '09']]"
      ]
     },
     "execution_count": 13,
     "metadata": {},
     "output_type": "execute_result"
    }
   ],
   "source": [
    "# Create empty list 'swap_avg_by_hour'\n",
    "swap_avg_by_hour = []\n",
    "\n",
    "for row in avg_by_hour:\n",
    "    swap_avg_by_hour.append([row[1], row[0]])\n",
    "\n",
    "print(swap_avg_by_hour)\n",
    "\n",
    "sorted_swap = sorted(swap_avg_by_hour, reverse=True)\n",
    "\n",
    "sorted_swap"
   ]
  },
  {
   "cell_type": "code",
   "execution_count": 14,
   "metadata": {},
   "outputs": [
    {
     "name": "stdout",
     "output_type": "stream",
     "text": [
      "Top 5 Hours for Ask Posts Comments\n",
      "15:00: 38.59 average comments per post\n",
      "02:00: 23.81 average comments per post\n",
      "20:00: 21.52 average comments per post\n",
      "16:00: 16.80 average comments per post\n",
      "21:00: 16.01 average comments per post\n"
     ]
    }
   ],
   "source": [
    "# Sort the values and print out the top 5 hours with highest average number of comments\n",
    "print('Top 5 Hours for Ask Posts Comments')\n",
    "for avg, hr in sorted_swap[:5]:\n",
    "    print(\n",
    "        '{hour}: {avg_comment:.2f} average comments per post'.format(\n",
    "            hour = dt.datetime.strptime(hr,'%H').strftime('%H:%M'), avg_comment = avg))"
   ]
  },
  {
   "cell_type": "markdown",
   "metadata": {},
   "source": [
    "The dataset timezone is in US Eastern Time"
   ]
  },
  {
   "cell_type": "markdown",
   "metadata": {},
   "source": [
    "Based on the above analysis, 15:00 hrs had the highest number of average comments per post (38.59), followed by 02:00 hrs (23.81), 20:00 hrs (21.52), 16:00 hrs (16.80) and 21:00 hrs (16.01).\n",
    "\n",
    "Therefore, to have a higher chance of receiving comments for post created, it is advisable to create a post at either 15:00 hrs (or 04:00 hrs SGT) or 02:00 hrs (or 15:00hrs SGT)"
   ]
  },
  {
   "cell_type": "markdown",
   "metadata": {},
   "source": [
    "## Determine if show or ask posts receive more points on average"
   ]
  },
  {
   "cell_type": "markdown",
   "metadata": {},
   "source": [
    "### Calculate average number of points received by show posts"
   ]
  },
  {
   "cell_type": "code",
   "execution_count": 15,
   "metadata": {},
   "outputs": [
    {
     "name": "stdout",
     "output_type": "stream",
     "text": [
      "Total number of show posts: 1162\n",
      "\n",
      "Total number of points received by show posts: 32019\n",
      "\n",
      "Average number of points received by show posts: 27\n"
     ]
    }
   ],
   "source": [
    "print(f'Total number of show posts: {length_show_posts}')\n",
    "\n",
    "print()\n",
    "\n",
    "# Find the total number of points received by show posts\n",
    "total_points_show_posts = 0\n",
    "\n",
    "for row in show_posts:\n",
    "    points_show_post = int(row[3])\n",
    "    total_points_show_posts += points_show_post\n",
    "\n",
    "print(f\"Total number of points received by show posts: {total_points_show_posts}\")\n",
    "\n",
    "print()\n",
    "\n",
    "# Find average number of points received by show posts\n",
    "avg_points_show_posts = total_points_show_posts // length_show_posts\n",
    "\n",
    "print(f'Average number of points received by show posts: {avg_points_show_posts}')"
   ]
  },
  {
   "cell_type": "markdown",
   "metadata": {},
   "source": [
    "### Calculate average number of points received by ask posts"
   ]
  },
  {
   "cell_type": "code",
   "execution_count": 16,
   "metadata": {},
   "outputs": [
    {
     "name": "stdout",
     "output_type": "stream",
     "text": [
      "Total number of ask posts: 1744\n",
      "\n",
      "Total number of points received by ask posts: 26268\n",
      "\n",
      "Average number of points received by ask posts: 15\n"
     ]
    }
   ],
   "source": [
    "print(f'Total number of ask posts: {length_ask_posts}')\n",
    "\n",
    "print()\n",
    "\n",
    "# Find the total number of points received by ask posts\n",
    "total_points_ask_posts = 0\n",
    "\n",
    "for row in ask_posts:\n",
    "    points_ask_post = int(row[3])\n",
    "    total_points_ask_posts += points_ask_post\n",
    "\n",
    "print(f\"Total number of points received by ask posts: {total_points_ask_posts}\")\n",
    "\n",
    "print()\n",
    "\n",
    "# Find average number of points received by ask posts\n",
    "avg_points_ask_posts = total_points_ask_posts // length_ask_posts\n",
    "\n",
    "print(f'Average number of points received by ask posts: {avg_points_ask_posts}')"
   ]
  },
  {
   "cell_type": "markdown",
   "metadata": {},
   "source": [
    "Based on the above calculation, it can be seen that show posts receive a higher number of points (27) on average as compared to ask posts (15)"
   ]
  },
  {
   "cell_type": "markdown",
   "metadata": {},
   "source": [
    "## Determine if `Ask HN` posts created at a certain time are more likely to receive more points"
   ]
  },
  {
   "cell_type": "markdown",
   "metadata": {},
   "source": [
    "### Step 1 - Calculate the number of `Ask Posts` created in each hour of the day, along with the number of points received."
   ]
  },
  {
   "cell_type": "code",
   "execution_count": 17,
   "metadata": {
    "scrolled": false
   },
   "outputs": [
    {
     "name": "stdout",
     "output_type": "stream",
     "text": [
      "Number of ask points by hour: \n",
      "{'09': 329, '13': 2062, '10': 1102, '14': 1282, '16': 2522, '23': 581, '12': 782, '17': 1941, '15': 3479, '21': 1721, '20': 1151, '02': 793, '18': 1741, '03': 374, '05': 552, '19': 1513, '01': 700, '22': 511, '08': 515, '04': 389, '00': 451, '06': 591, '07': 361, '11': 825}\n",
      "\n",
      "Ask counts by hour: {'09': 45, '13': 85, '10': 59, '14': 107, '16': 108, '23': 68, '12': 73, '17': 100, '15': 116, '21': 109, '20': 80, '02': 58, '18': 109, '03': 54, '05': 46, '19': 110, '01': 60, '22': 71, '08': 48, '04': 47, '00': 55, '06': 44, '07': 34, '11': 58}\n"
     ]
    }
   ],
   "source": [
    "# Import the datetime module\n",
    "import datetime as dt\n",
    "\n",
    "# Create an empty list 'ask_point_date_list'\n",
    "ask_point_date_list = []\n",
    "\n",
    "# Iterate over 'ask_posts' list to append number of points and created date\n",
    "# number of points in index 3 and created date in index 6\n",
    "for post in ask_posts:\n",
    "    ask_point_date_list.append([post[6], int(post[3])])\n",
    "\n",
    "# Create dictionaries 'ask_counts_by_hour' and 'ask_points_by_hour'\n",
    "# ask_counts_by_hour tracks number of occurrences for each hour of the day\n",
    "# ask_points_by_hour tracks number of points for each hour of the day\n",
    "ask_counts_by_hour = {}\n",
    "ask_points_by_hour = {}\n",
    "\n",
    "for item in ask_point_date_list:\n",
    "    date = item[0]\n",
    "    point = item[1]\n",
    "    date_format = '%m/%d/%Y %H:%M'\n",
    "    \n",
    "    # First is to parse string into datetime object using strptime, then extract the hour portion using strftime\n",
    "    time = dt.datetime.strptime(date, date_format).strftime('%H')\n",
    "    \n",
    "    if time in ask_counts_by_hour:\n",
    "        ask_points_by_hour[time] += point\n",
    "        ask_counts_by_hour[time] += 1\n",
    "    else:\n",
    "        ask_points_by_hour[time] = point\n",
    "        ask_counts_by_hour[time] = 1\n",
    "\n",
    "print(f'Number of ask points by hour: \\n{ask_points_by_hour}')\n",
    "\n",
    "print()\n",
    "\n",
    "print(f'Ask counts by hour: {ask_counts_by_hour}')"
   ]
  },
  {
   "cell_type": "markdown",
   "metadata": {},
   "source": [
    "### Step 2 - Calculate the average number of points for `Ask HN` Posts by Hour"
   ]
  },
  {
   "cell_type": "code",
   "execution_count": 18,
   "metadata": {},
   "outputs": [
    {
     "data": {
      "text/plain": [
       "[['09', 7.311111111111111],\n",
       " ['13', 24.258823529411764],\n",
       " ['10', 18.677966101694917],\n",
       " ['14', 11.981308411214954],\n",
       " ['16', 23.35185185185185],\n",
       " ['23', 8.544117647058824],\n",
       " ['12', 10.712328767123287],\n",
       " ['17', 19.41],\n",
       " ['15', 29.99137931034483],\n",
       " ['21', 15.788990825688073],\n",
       " ['20', 14.3875],\n",
       " ['02', 13.672413793103448],\n",
       " ['18', 15.972477064220184],\n",
       " ['03', 6.925925925925926],\n",
       " ['05', 12.0],\n",
       " ['19', 13.754545454545454],\n",
       " ['01', 11.666666666666666],\n",
       " ['22', 7.197183098591549],\n",
       " ['08', 10.729166666666666],\n",
       " ['04', 8.27659574468085],\n",
       " ['00', 8.2],\n",
       " ['06', 13.431818181818182],\n",
       " ['07', 10.617647058823529],\n",
       " ['11', 14.224137931034482]]"
      ]
     },
     "execution_count": 18,
     "metadata": {},
     "output_type": "execute_result"
    }
   ],
   "source": [
    "# Create empty list 'avg_ask_points_by_hour'\n",
    "avg_ask_points_by_hour = []\n",
    "\n",
    "# Iterate through the list 'ask_points_by_hour'\n",
    "# Append hour of the day and average points per hour to the list 'avg_ask_points_by_hour'\n",
    "for hour in ask_points_by_hour:\n",
    "    avg_ask_points_by_hour.append([hour, ask_points_by_hour[hour] / ask_counts_by_hour[hour]])\n",
    "\n",
    "avg_ask_points_by_hour"
   ]
  },
  {
   "cell_type": "markdown",
   "metadata": {},
   "source": [
    "### Step 3 - Sort the obtained values to identify the top 5 results with highest average number of points and the corresponding hour created "
   ]
  },
  {
   "cell_type": "code",
   "execution_count": 19,
   "metadata": {},
   "outputs": [
    {
     "name": "stdout",
     "output_type": "stream",
     "text": [
      "[[7.311111111111111, '09'], [24.258823529411764, '13'], [18.677966101694917, '10'], [11.981308411214954, '14'], [23.35185185185185, '16'], [8.544117647058824, '23'], [10.712328767123287, '12'], [19.41, '17'], [29.99137931034483, '15'], [15.788990825688073, '21'], [14.3875, '20'], [13.672413793103448, '02'], [15.972477064220184, '18'], [6.925925925925926, '03'], [12.0, '05'], [13.754545454545454, '19'], [11.666666666666666, '01'], [7.197183098591549, '22'], [10.729166666666666, '08'], [8.27659574468085, '04'], [8.2, '00'], [13.431818181818182, '06'], [10.617647058823529, '07'], [14.224137931034482, '11']]\n"
     ]
    },
    {
     "data": {
      "text/plain": [
       "[[29.99137931034483, '15'],\n",
       " [24.258823529411764, '13'],\n",
       " [23.35185185185185, '16'],\n",
       " [19.41, '17'],\n",
       " [18.677966101694917, '10'],\n",
       " [15.972477064220184, '18'],\n",
       " [15.788990825688073, '21'],\n",
       " [14.3875, '20'],\n",
       " [14.224137931034482, '11'],\n",
       " [13.754545454545454, '19'],\n",
       " [13.672413793103448, '02'],\n",
       " [13.431818181818182, '06'],\n",
       " [12.0, '05'],\n",
       " [11.981308411214954, '14'],\n",
       " [11.666666666666666, '01'],\n",
       " [10.729166666666666, '08'],\n",
       " [10.712328767123287, '12'],\n",
       " [10.617647058823529, '07'],\n",
       " [8.544117647058824, '23'],\n",
       " [8.27659574468085, '04'],\n",
       " [8.2, '00'],\n",
       " [7.311111111111111, '09'],\n",
       " [7.197183098591549, '22'],\n",
       " [6.925925925925926, '03']]"
      ]
     },
     "execution_count": 19,
     "metadata": {},
     "output_type": "execute_result"
    }
   ],
   "source": [
    "# Create empty list 'swap_avg_ask_points_by_hour'\n",
    "swap_avg_ask_points_by_hour = []\n",
    "\n",
    "# Swap the position of average points per hour and the hour of the day\n",
    "for row in avg_ask_points_by_hour:\n",
    "    swap_avg_ask_points_by_hour.append([row[1], row[0]])\n",
    "\n",
    "print(swap_avg_ask_points_by_hour)\n",
    "\n",
    "# Sort the list 'swap_avg_ask_points_by_hour' in descending order\n",
    "sorted_swap = sorted(swap_avg_ask_points_by_hour, reverse=True)\n",
    "\n",
    "sorted_swap"
   ]
  },
  {
   "cell_type": "code",
   "execution_count": 20,
   "metadata": {},
   "outputs": [
    {
     "name": "stdout",
     "output_type": "stream",
     "text": [
      "Top 5 Hours for Ask Posts average number of points\n",
      "15:00: 29.99 average points per post\n",
      "13:00: 24.26 average points per post\n",
      "16:00: 23.35 average points per post\n",
      "17:00: 19.41 average points per post\n",
      "10:00: 18.68 average points per post\n"
     ]
    }
   ],
   "source": [
    "# Print out the top 5 hours with highest average number of points\n",
    "print('Top 5 Hours for Ask Posts average number of points')\n",
    "for avg, hr in sorted_swap[:5]:\n",
    "    print(\n",
    "        '{hour}: {avg_points:.2f} average points per post'.format(\n",
    "            hour = dt.datetime.strptime(hr,'%H').strftime('%H:%M'), avg_points = avg))"
   ]
  },
  {
   "cell_type": "markdown",
   "metadata": {},
   "source": [
    "The dataset timezone is in US Eastern Time"
   ]
  },
  {
   "cell_type": "markdown",
   "metadata": {},
   "source": [
    "Based on the above analysis, 15:00 hrs had the highest number of average points per ask post (29.99), followed by 13:00 hrs (24.26), 16:00 hrs (23.35), 17:00 hrs (19.41) and 10:00 hrs (18.68).\n",
    "\n",
    "Therefore, to have a higher chance of scoring points for post created, it is advisable to create a post at either 15:00 hrs (or 04:00 hrs SGT) or 13:00 hrs (or 02:00hrs SGT)"
   ]
  },
  {
   "cell_type": "markdown",
   "metadata": {},
   "source": [
    "## Determine if `Show HN` posts created at a certain time are more likely to receive more points"
   ]
  },
  {
   "cell_type": "markdown",
   "metadata": {},
   "source": [
    "### Step 1 - Calculate the number of `Show HN` posts created in each hour of the day, along with the number of points received."
   ]
  },
  {
   "cell_type": "code",
   "execution_count": 21,
   "metadata": {},
   "outputs": [
    {
     "name": "stdout",
     "output_type": "stream",
     "text": [
      "Number of show points by hour: \n",
      "{'14': 2187, '22': 1856, '18': 2215, '07': 494, '20': 1819, '05': 104, '16': 2634, '19': 1702, '15': 2228, '03': 679, '17': 2521, '06': 375, '02': 340, '13': 2438, '08': 519, '21': 866, '04': 386, '11': 1480, '12': 2543, '23': 1526, '09': 553, '01': 700, '10': 681, '00': 1173}\n",
      "\n",
      "Show counts by hour: {'14': 86, '22': 46, '18': 61, '07': 26, '20': 60, '05': 19, '16': 93, '19': 55, '15': 78, '03': 27, '17': 93, '06': 16, '02': 30, '13': 99, '08': 34, '21': 47, '04': 26, '11': 44, '12': 61, '23': 36, '09': 30, '01': 28, '10': 36, '00': 31}\n"
     ]
    }
   ],
   "source": [
    "# Import the datetime module\n",
    "import datetime as dt\n",
    "\n",
    "# Create an empty list 'show_point_date_list'\n",
    "show_point_date_list = []\n",
    "\n",
    "# Iterate over 'show_posts' list to append number of points and created date\n",
    "# number of points in index 3 and created date in index 6\n",
    "for post in show_posts:\n",
    "    show_point_date_list.append([post[6], int(post[3])])\n",
    "\n",
    "# Create dictionaries 'counts_by_hour' and 'points_by_hour'\n",
    "# counts_by_hour tracks number of occurrences for each hour of the day\n",
    "# points_by_hour tracks number of points for each hour of the day\n",
    "show_counts_by_hour = {}\n",
    "show_points_by_hour = {}\n",
    "\n",
    "for item in show_point_date_list:\n",
    "    date = item[0]\n",
    "    point = item[1]\n",
    "    date_format = '%m/%d/%Y %H:%M'\n",
    "    \n",
    "    # First is to parse string into datetime object using strptime, then extract the hour portion using strftime\n",
    "    time = dt.datetime.strptime(date, date_format).strftime('%H')\n",
    "    \n",
    "    if time in show_counts_by_hour:\n",
    "        show_points_by_hour[time] += point\n",
    "        show_counts_by_hour[time] += 1\n",
    "    else:\n",
    "        show_points_by_hour[time] = point\n",
    "        show_counts_by_hour[time] = 1\n",
    "\n",
    "print(f'Number of show points by hour: \\n{show_points_by_hour}')\n",
    "\n",
    "print()\n",
    "\n",
    "print(f'Show counts by hour: {show_counts_by_hour}')"
   ]
  },
  {
   "cell_type": "markdown",
   "metadata": {},
   "source": [
    "### Step 2 - Calculate the average number of points for `Show HN` Posts by Hour"
   ]
  },
  {
   "cell_type": "code",
   "execution_count": 22,
   "metadata": {},
   "outputs": [
    {
     "data": {
      "text/plain": [
       "[['14', 25.430232558139537],\n",
       " ['22', 40.34782608695652],\n",
       " ['18', 36.31147540983606],\n",
       " ['07', 19.0],\n",
       " ['20', 30.316666666666666],\n",
       " ['05', 5.473684210526316],\n",
       " ['16', 28.322580645161292],\n",
       " ['19', 30.945454545454545],\n",
       " ['15', 28.564102564102566],\n",
       " ['03', 25.14814814814815],\n",
       " ['17', 27.107526881720432],\n",
       " ['06', 23.4375],\n",
       " ['02', 11.333333333333334],\n",
       " ['13', 24.626262626262626],\n",
       " ['08', 15.264705882352942],\n",
       " ['21', 18.425531914893618],\n",
       " ['04', 14.846153846153847],\n",
       " ['11', 33.63636363636363],\n",
       " ['12', 41.68852459016394],\n",
       " ['23', 42.388888888888886],\n",
       " ['09', 18.433333333333334],\n",
       " ['01', 25.0],\n",
       " ['10', 18.916666666666668],\n",
       " ['00', 37.83870967741935]]"
      ]
     },
     "execution_count": 22,
     "metadata": {},
     "output_type": "execute_result"
    }
   ],
   "source": [
    "# Create empty list 'avg_show_points_by_hour'\n",
    "avg_show_points_by_hour = []\n",
    "\n",
    "# Iterate through the list 'show_points_by_hour'\n",
    "# Append hour of the day and average points per hour to the list 'avg_show_points_by_hour'\n",
    "for hour in show_points_by_hour:\n",
    "    avg_show_points_by_hour.append([hour, show_points_by_hour[hour] / show_counts_by_hour[hour]])\n",
    "\n",
    "avg_show_points_by_hour"
   ]
  },
  {
   "cell_type": "markdown",
   "metadata": {},
   "source": [
    "### Step 3 - Sort the obtained values to identify the top 5 results with highest average number of points and the corresponding hour created "
   ]
  },
  {
   "cell_type": "code",
   "execution_count": 23,
   "metadata": {},
   "outputs": [
    {
     "name": "stdout",
     "output_type": "stream",
     "text": [
      "[[25.430232558139537, '14'], [40.34782608695652, '22'], [36.31147540983606, '18'], [19.0, '07'], [30.316666666666666, '20'], [5.473684210526316, '05'], [28.322580645161292, '16'], [30.945454545454545, '19'], [28.564102564102566, '15'], [25.14814814814815, '03'], [27.107526881720432, '17'], [23.4375, '06'], [11.333333333333334, '02'], [24.626262626262626, '13'], [15.264705882352942, '08'], [18.425531914893618, '21'], [14.846153846153847, '04'], [33.63636363636363, '11'], [41.68852459016394, '12'], [42.388888888888886, '23'], [18.433333333333334, '09'], [25.0, '01'], [18.916666666666668, '10'], [37.83870967741935, '00']]\n"
     ]
    },
    {
     "data": {
      "text/plain": [
       "[[42.388888888888886, '23'],\n",
       " [41.68852459016394, '12'],\n",
       " [40.34782608695652, '22'],\n",
       " [37.83870967741935, '00'],\n",
       " [36.31147540983606, '18'],\n",
       " [33.63636363636363, '11'],\n",
       " [30.945454545454545, '19'],\n",
       " [30.316666666666666, '20'],\n",
       " [28.564102564102566, '15'],\n",
       " [28.322580645161292, '16'],\n",
       " [27.107526881720432, '17'],\n",
       " [25.430232558139537, '14'],\n",
       " [25.14814814814815, '03'],\n",
       " [25.0, '01'],\n",
       " [24.626262626262626, '13'],\n",
       " [23.4375, '06'],\n",
       " [19.0, '07'],\n",
       " [18.916666666666668, '10'],\n",
       " [18.433333333333334, '09'],\n",
       " [18.425531914893618, '21'],\n",
       " [15.264705882352942, '08'],\n",
       " [14.846153846153847, '04'],\n",
       " [11.333333333333334, '02'],\n",
       " [5.473684210526316, '05']]"
      ]
     },
     "execution_count": 23,
     "metadata": {},
     "output_type": "execute_result"
    }
   ],
   "source": [
    "# Create empty list 'swap_avg_show_points_by_hour'\n",
    "swap_avg_show_points_by_hour = []\n",
    "\n",
    "# Swap the position of average points per hour and the hour of the day\n",
    "for row in avg_show_points_by_hour:\n",
    "    swap_avg_show_points_by_hour.append([row[1], row[0]])\n",
    "\n",
    "print(swap_avg_show_points_by_hour)\n",
    "\n",
    "# Sort the list 'swap_avg_show_points_by_hour' in descending order\n",
    "sorted_show_swap = sorted(swap_avg_show_points_by_hour, reverse=True)\n",
    "\n",
    "sorted_show_swap"
   ]
  },
  {
   "cell_type": "code",
   "execution_count": 24,
   "metadata": {},
   "outputs": [
    {
     "name": "stdout",
     "output_type": "stream",
     "text": [
      "Top 5 Hours for Show Posts average number of points\n",
      "23:00: 42.39 average points per post\n",
      "12:00: 41.69 average points per post\n",
      "22:00: 40.35 average points per post\n",
      "00:00: 37.84 average points per post\n",
      "18:00: 36.31 average points per post\n"
     ]
    }
   ],
   "source": [
    "# Print out the top 5 hours with highest average number of points\n",
    "print('Top 5 Hours for Show Posts average number of points')\n",
    "for avg, hr in sorted_show_swap[:5]:\n",
    "    print(\n",
    "        '{hour}: {avg_points:.2f} average points per post'.format(\n",
    "            hour = dt.datetime.strptime(hr,'%H').strftime('%H:%M'), avg_points = avg))"
   ]
  },
  {
   "cell_type": "markdown",
   "metadata": {},
   "source": [
    "The dataset timezone is in US Eastern Time"
   ]
  },
  {
   "cell_type": "markdown",
   "metadata": {},
   "source": [
    "Based on the above analysis, 23:00 hrs had the highest number of average points per show post (42.39), followed by 12:00 hrs (41.69), 22:00 hrs (40.35), 00:00 hrs (37.84) and 18:00 hrs (36.31).\n",
    "\n",
    "Therefore, to have a higher chance of scoring points for show post created, it is advisable to create a post at either 15:00 hrs (or 04:00 hrs SGT) or 13:00 hrs (or 02:00hrs SGT)"
   ]
  },
  {
   "cell_type": "markdown",
   "metadata": {},
   "source": [
    "## Compare the average number of comments received by other posts to `Ask HN` and `Show HN` posts"
   ]
  },
  {
   "cell_type": "markdown",
   "metadata": {},
   "source": [
    "### Calculate the average number of comments received by other posts"
   ]
  },
  {
   "cell_type": "code",
   "execution_count": 25,
   "metadata": {},
   "outputs": [
    {
     "name": "stdout",
     "output_type": "stream",
     "text": [
      "The average number of comments on other posts is 26\n"
     ]
    }
   ],
   "source": [
    "# Find the total number of comments on other posts\n",
    "\n",
    "total_other_comments = 0\n",
    "for row in other_posts:\n",
    "    num_of_other_comments = int(row[4])\n",
    "    total_other_comments += num_of_other_comments\n",
    "\n",
    "# Find the average number of comments on other posts\n",
    "avg_other_comments = total_other_comments // length_other_posts\n",
    "\n",
    "print(f'The average number of comments on other posts is {avg_other_comments}')"
   ]
  },
  {
   "cell_type": "markdown",
   "metadata": {},
   "source": [
    "From previous analysis, the average number of comments on `Ask HN` posts is 14 and the average number of comments on `Show HN` posts is 10. Hence, we can observe that other posts garnered higher average number of comments than `Ask HN` and `Show HN` posts."
   ]
  },
  {
   "cell_type": "markdown",
   "metadata": {},
   "source": [
    "## Compare the average number of points received by other posts to `Ask HN` and `Show HN` posts"
   ]
  },
  {
   "cell_type": "markdown",
   "metadata": {},
   "source": [
    "### Calculate the average number of comments received by other posts"
   ]
  },
  {
   "cell_type": "code",
   "execution_count": 26,
   "metadata": {},
   "outputs": [
    {
     "name": "stdout",
     "output_type": "stream",
     "text": [
      "Total number of other posts: 17194\n",
      "\n",
      "Total number of points received by other posts: 952664\n",
      "\n",
      "Average number of points received by other posts: 55\n"
     ]
    }
   ],
   "source": [
    "print(f'Total number of other posts: {length_other_posts}')\n",
    "\n",
    "print()\n",
    "\n",
    "# Find the total number of points received by other posts\n",
    "total_points_other_posts = 0\n",
    "\n",
    "for row in other_posts:\n",
    "    points_other_post = int(row[3])\n",
    "    total_points_other_posts += points_other_post\n",
    "\n",
    "print(f\"Total number of points received by other posts: {total_points_other_posts}\")\n",
    "\n",
    "print()\n",
    "\n",
    "# Find average number of points received by other posts\n",
    "avg_points_other_posts = total_points_other_posts // length_other_posts\n",
    "\n",
    "print(f'Average number of points received by other posts: {avg_points_other_posts}')"
   ]
  },
  {
   "cell_type": "markdown",
   "metadata": {},
   "source": [
    "From previous analysis, the average number of points on `Ask HN` posts is 15 and the average number of points on `Show HN` posts is 27. Hence, we can observe that other posts garnered higher average number of points than `Ask HN` and `Show HN` posts."
   ]
  }
 ],
 "metadata": {
  "kernelspec": {
   "display_name": "Python 3 (ipykernel)",
   "language": "python",
   "name": "python3"
  },
  "language_info": {
   "codemirror_mode": {
    "name": "ipython",
    "version": 3
   },
   "file_extension": ".py",
   "mimetype": "text/x-python",
   "name": "python",
   "nbconvert_exporter": "python",
   "pygments_lexer": "ipython3",
   "version": "3.11.5"
  }
 },
 "nbformat": 4,
 "nbformat_minor": 2
}
